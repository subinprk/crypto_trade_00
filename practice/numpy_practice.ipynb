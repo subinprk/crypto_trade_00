{
 "cells": [
  {
   "cell_type": "markdown",
   "metadata": {},
   "source": [
    "## Numpy Multidimensional Array Object"
   ]
  },
  {
   "cell_type": "code",
   "execution_count": 22,
   "metadata": {},
   "outputs": [
    {
     "name": "stdout",
     "output_type": "stream",
     "text": [
      "[6.  7.8 8.  0.  1. ]\n",
      "[60. 78. 80.  0. 10.]\n",
      "float64\n",
      "1\n",
      "(5,)\n",
      "data_sum :  [6, 7.8, 8, 0, 1, 3, 2, 10, 5, 1]\n",
      "numpy_sum :  [ 9.   9.8 18.   5.   2. ]\n",
      "numpy_transpose :  [6.  7.8 8.  0.  1. ]\n",
      "samae, numpy_transpose :  [6.  7.8 8.  0.  1. ]\n"
     ]
    }
   ],
   "source": [
    "import numpy as np\n",
    "\n",
    "data1 = [6, 7.8, 8, 0, 1]\n",
    "data2 = [3, 2, 10, 5, 1]\n",
    "arr1 = np.array(data1)\n",
    "arr2 = np.array(data2, dtype=np.float64)\n",
    "\n",
    "print(arr1)\n",
    "print(10 *arr1)\n",
    "print(arr1.dtype)\n",
    "print(arr1.ndim)\n",
    "print(arr1.shape)\n",
    "\n",
    "data_sum = data1 + data2\n",
    "print(\"data_sum : \", data_sum)\n",
    "numpy_sum = arr1 + arr2\n",
    "print(\"numpy_sum : \", numpy_sum)\n",
    "#numpy_append = np.append(arr1, arr2)\n",
    "#print(\"numpy append : \", numpy_append)\n",
    "numpy_transpose = np.transpose(arr1)\n",
    "print(\"numpy_transpose : \", numpy_transpose)\n",
    "print(\"samae, numpy_transpose : \", arr1.T)"
   ]
  },
  {
   "cell_type": "markdown",
   "metadata": {},
   "source": [
    "???output of transpose looked a bit weird...but going to understand it for make it readable"
   ]
  },
  {
   "cell_type": "code",
   "execution_count": 25,
   "metadata": {},
   "outputs": [
    {
     "name": "stdout",
     "output_type": "stream",
     "text": [
      "ten_arr resize: \n",
      " [[ 6.   7.8  8.   0.   1. ]\n",
      " [ 3.   2.  10.   5.   1. ]]\n",
      "ten_arr resize to 3x3 : \n",
      " [[ 6.   7.8  8. ]\n",
      " [ 0.   1.   3. ]\n",
      " [ 2.  10.   5. ]]\n"
     ]
    }
   ],
   "source": [
    "ten_arr = np.array(data_sum)\n",
    "ten_arr.resize((2,5))\n",
    "print(\"ten_arr resize: \\n\", ten_arr)\n",
    "\n",
    "#is it possible?\n",
    "ten_arr.resize((3,3))\n",
    "print(\"ten_arr resize to 3x3 : \\n\", ten_arr)"
   ]
  },
  {
   "cell_type": "code",
   "execution_count": 26,
   "metadata": {},
   "outputs": [
    {
     "name": "stdout",
     "output_type": "stream",
     "text": [
      "[0. 1. 3. 2.]\n"
     ]
    }
   ],
   "source": [
    "print(ten_arr[ten_arr<5])\n"
   ]
  },
  {
   "cell_type": "code",
   "execution_count": 27,
   "metadata": {},
   "outputs": [
    {
     "data": {
      "text/plain": [
       "[array([[6. , 7.8, 8. ]]), array([[0., 1., 3.]]), array([[ 2., 10.,  5.]])]"
      ]
     },
     "execution_count": 27,
     "metadata": {},
     "output_type": "execute_result"
    }
   ],
   "source": [
    "np.split(ten_arr, 3)"
   ]
  },
  {
   "cell_type": "markdown",
   "metadata": {},
   "source": [
    "## Matrix Calculation"
   ]
  },
  {
   "cell_type": "code",
   "execution_count": 7,
   "metadata": {},
   "outputs": [
    {
     "name": "stdout",
     "output_type": "stream",
     "text": [
      "[[ 1  4  9 16]\n",
      " [25 36 49 64]]\n",
      "[[ 50.  60.]\n",
      " [114. 140.]]\n"
     ]
    }
   ],
   "source": [
    "import numpy as np\n",
    "\n",
    "data1 = [[1, 2, 3, 4],[5,6,7,8]]\n",
    "data2 = [[1,2],[3,4],[5,6],[7,8]]\n",
    "arr1 = np.array(data1)\n",
    "arr2 = np.array(data2, dtype=np.float64)\n",
    "\n",
    "multi_arr = arr1 * arr1\n",
    "dot_arr = np.dot(arr1, arr2)\n",
    "\n",
    "print(multi_arr)\n",
    "print(dot_arr)"
   ]
  },
  {
   "cell_type": "code",
   "execution_count": 9,
   "metadata": {},
   "outputs": [
    {
     "name": "stdout",
     "output_type": "stream",
     "text": [
      "[[26 32 38 44]\n",
      " [32 40 48 56]\n",
      " [38 48 58 68]\n",
      " [44 56 68 80]]\n"
     ]
    }
   ],
   "source": [
    "arr1_trans = arr1.transpose()\n",
    "print(np.dot(arr1_trans, arr1))"
   ]
  },
  {
   "cell_type": "markdown",
   "metadata": {},
   "source": [
    "## Inverting Matrix"
   ]
  },
  {
   "cell_type": "code",
   "execution_count": 18,
   "metadata": {},
   "outputs": [
    {
     "name": "stdout",
     "output_type": "stream",
     "text": [
      "[[-0.0467033   0.00274725  0.0989011   0.01098901]\n",
      " [-0.62362637  0.27197802 -0.20879121  0.08791209]\n",
      " [-0.61263736  0.4478022   0.12087912 -0.20879121]\n",
      " [ 1.03296703 -0.47252747 -0.01098901  0.10989011]] \n",
      "\n",
      "[[ 1.00000000e+00  2.22044605e-16  2.08166817e-17  0.00000000e+00]\n",
      " [ 0.00000000e+00  1.00000000e+00  5.55111512e-17  0.00000000e+00]\n",
      " [ 4.44089210e-16 -2.77555756e-16  1.00000000e+00  0.00000000e+00]\n",
      " [ 0.00000000e+00 -2.22044605e-16 -5.89805982e-17  1.00000000e+00]] \n",
      "\n"
     ]
    }
   ],
   "source": [
    "\n",
    "c = np.array([[1,2,3,4],[5,6,7,8],[9,0,1,1],[13,7,2,6]])\n",
    "inv_c = np.linalg.inv(c)\n",
    "print(inv_c, \"\\n\")\n",
    "\n",
    "print(np.dot(c, inv_c), \"\\n\")"
   ]
  },
  {
   "cell_type": "markdown",
   "metadata": {},
   "source": [
    "Some element which should be 0 have a very small value.\n",
    "This is due to numerical precision issues.\n",
    "Numpy does not make symbolic computations like Mathmatica or sympy,\n",
    "it deals with numbers up to a certain precision"
   ]
  },
  {
   "cell_type": "code",
   "execution_count": 19,
   "metadata": {},
   "outputs": [
    {
     "name": "stdout",
     "output_type": "stream",
     "text": [
      "[[1 2 3 4]\n",
      " [5 6 7 8]] \n",
      "\n",
      "36\n"
     ]
    }
   ],
   "source": [
    "print(arr1, \"\\n\")\n",
    "print(np.sum(arr1))"
   ]
  },
  {
   "cell_type": "markdown",
   "metadata": {},
   "source": [
    "## Mathmatical Operations"
   ]
  },
  {
   "cell_type": "code",
   "execution_count": 20,
   "metadata": {},
   "outputs": [
    {
     "name": "stdout",
     "output_type": "stream",
     "text": [
      "[[2.71828183e+00 7.38905610e+00 2.00855369e+01 5.45981500e+01]\n",
      " [1.48413159e+02 4.03428793e+02 1.09663316e+03 2.98095799e+03]] \n",
      "\n",
      "[[ 0.54030231 -0.41614684 -0.9899925  -0.65364362]\n",
      " [ 0.28366219  0.96017029  0.75390225 -0.14550003]] \n",
      "\n",
      "[[0.         0.69314718 1.09861229 1.38629436]\n",
      " [1.60943791 1.79175947 1.94591015 2.07944154]] \n",
      "\n",
      "[[ 2.16120922  5.          3.24181384 -2.91302786]\n",
      " [-7.91993997 -5.88279259  2.83662185 10.56187315]] \n",
      "\n"
     ]
    }
   ],
   "source": [
    "D = np.exp(arr1)\n",
    "E = np.cos(arr1)\n",
    "F = np.log(arr1)\n",
    "G = (arr1 + 3) * np.cos(arr1 -2)\n",
    "\n",
    "print(D, \"\\n\")\n",
    "print(E, \"\\n\")\n",
    "print(F, \"\\n\")\n",
    "print(G, \"\\n\")"
   ]
  }
 ],
 "metadata": {
  "kernelspec": {
   "display_name": "Python 3 (ipykernel)",
   "language": "python",
   "name": "python3"
  },
  "language_info": {
   "codemirror_mode": {
    "name": "ipython",
    "version": 3
   },
   "file_extension": ".py",
   "mimetype": "text/x-python",
   "name": "python",
   "nbconvert_exporter": "python",
   "pygments_lexer": "ipython3",
   "version": "3.12.2"
  }
 },
 "nbformat": 4,
 "nbformat_minor": 2
}
